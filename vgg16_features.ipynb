{
 "cells": [
  {
   "cell_type": "markdown",
   "metadata": {},
   "source": [
    "# VGG16 feature extraction\n",
    "\n",
    "VGG16 is a convolutional neural network architecture originally trained on the ImageNet dataset for image classification tasks. \n",
    "- Although designed for visual inputs, it can be repurposed for audio analysis by converting audio signals into spectrograms—visual representations of sound. \n",
    "- By removing the top classification layers, VGG16 can be used as a general-purpose feature extractor for audio spectrograms, capturing rich, hierarchical features useful for downstream audio processing tasks."
   ]
  },
  {
   "cell_type": "code",
   "execution_count": null,
   "metadata": {},
   "outputs": [],
   "source": [
    "import os\n",
    "import numpy as np\n",
    "import umap\n",
    "import matplotlib.pyplot as plt\n",
    "import pandas as pd\n",
    "from sklearn.preprocessing import StandardScaler\n",
    "from sklearn.ensemble import IsolationForest\n",
    "import plotly.express as px\n",
    "from vgg16_functions import extract_image_features_vgg16"
   ]
  },
  {
   "cell_type": "code",
   "execution_count": null,
   "metadata": {},
   "outputs": [],
   "source": [
    "## Apply defined function to extract features with VGG16 model from png spectrogram files\n",
    "\n",
    "# Folder of png spectrograms\n",
    "spectrogram_dir = \"/species_name\"\n",
    "\n",
    "# Create empty list for features array\n",
    "features = []\n",
    "\n",
    "# Create empty list for corresponding file names\n",
    "file_names = []\n",
    "\n",
    "# Loop through all spectrograms in directory\n",
    "for file in os.listdir(spectrogram_dir):\n",
    "    if file.endswith(\".png\"):\n",
    "        file_path = os.path.join(spectrogram_dir, file)\n",
    "        features.append(extract_image_features_vgg16(file_path))\n",
    "        file_names.append(file)\n",
    "\n",
    "# Convert to numpy array\n",
    "features = np.array(features)"
   ]
  },
  {
   "cell_type": "code",
   "execution_count": null,
   "metadata": {},
   "outputs": [],
   "source": [
    "# Standardise the features\n",
    "features_norm = StandardScaler().fit_transform(features)"
   ]
  },
  {
   "cell_type": "code",
   "execution_count": null,
   "metadata": {},
   "outputs": [],
   "source": [
    "# Perform UMAP\n",
    "umap_embedding = umap.UMAP(\n",
    "    metric='euclidean',\n",
    "#   n_neighbors=5,\n",
    "    min_dist=0.2, # Can play around with this parameter\n",
    "    n_components=2,\n",
    "    random_state=42\n",
    ").fit_transform(features_norm)\n",
    "\n",
    "# Create a DataFrame with UMAP results and corresponding filenames\n",
    "umap_df = pd.DataFrame(umap_embedding, columns=['UMAP1', 'UMAP2'])\n",
    "umap_df['filename'] = file_names"
   ]
  },
  {
   "cell_type": "code",
   "execution_count": null,
   "metadata": {},
   "outputs": [],
   "source": [
    "### Centroid methodology\n",
    "\n",
    "# Calculate the centroid (mean) of the points\n",
    "centroid = umap_df[['UMAP1', 'UMAP2']].mean()\n",
    "\n",
    "# Calculate the Euclidean distance of each point from the centroid\n",
    "umap_df['distance_from_centroid'] = ((umap_df['UMAP1'] - centroid[0]) ** 2 + (umap_df['UMAP2'] - centroid[1]) ** 2) ** 0.5\n",
    "\n",
    "# Visualise the UMAP embedding\n",
    "plt.figure(figsize=(10, 8))\n",
    "\n",
    "plt.scatter(umap_df['UMAP1'], umap_df['UMAP2'],\n",
    "            c=umap_df['distance_from_centroid'], cmap='viridis',\n",
    "            alpha=0.6, s=25)\n",
    "\n",
    "plt.colorbar(label='Distance from Centroid')\n",
    "\n",
    "plt.title('VGG16 UMAP projection with Distance from Centroid (species)')\n",
    "\n",
    "# Add centroid location\n",
    "plt.scatter(centroid[0], centroid[1], color='red', s=100, label='Centroid', alpha = 0.8)\n",
    "\n",
    "# Annotate filenames of outliers (you can choose a threshold based on your data)\n",
    "outliers_threshold = 6 # Play around with this parameter to remove the further a field data points\n",
    "outliers = umap_df[umap_df['distance_from_centroid'] > outliers_threshold]\n",
    "\n",
    "# Annotate outliers on the plot (NOT GOOD FOR IF LARGE SAMPLE SIZE)\n",
    "#for i, row in outliers.iterrows():\n",
    "#   plt.annotate(row['filename'], (row['UMAP1'], row['UMAP2']), textcoords=\"offset points\", xytext=(0, 5), ha='center', fontsize=9)\n",
    "\n",
    "# Plot and print outliers\n",
    "plt.show()\n",
    "print(\"Outliers:\", outliers)"
   ]
  },
  {
   "cell_type": "code",
   "execution_count": null,
   "metadata": {},
   "outputs": [],
   "source": [
    "### Apply Isolation Forest on the UMAP-reduced features\n",
    "\n",
    "# Set model params\n",
    "iso_forest = IsolationForest(contamination=0.05, # Play around with this to add or remove outliers (0.05-0.5)\n",
    "                             random_state=42,\n",
    "                             n_estimators = 200)\n",
    "\n",
    "# Predict on data\n",
    "outliers = iso_forest.fit_predict(umap_embedding)\n",
    "\n",
    "# Convert to a DF with UMAP results and outlier labels\n",
    "umap_df = pd.DataFrame(umap_embedding, columns=['UMAP1', 'UMAP2'])\n",
    "umap_df['Outlier'] = outliers  # -1 = outlier, 1 = inlier\n",
    "umap_df['filename'] = file_names\n",
    "\n",
    "# Visualise\n",
    "plt.figure(figsize=(10, 8))\n",
    "plt.scatter(umap_df['UMAP1'], umap_df['UMAP2'], c=umap_df['Outlier'], cmap='coolwarm', alpha=0.6, s=25)\n",
    "plt.colorbar(label='Outlier (1: Inlier, -1: Outlier)')\n",
    "plt.title('VGG16 UMAP Projection with Isolation Forest Outliers (species)')\n",
    "plt.show()"
   ]
  },
  {
   "cell_type": "code",
   "execution_count": null,
   "metadata": {},
   "outputs": [],
   "source": [
    "## 3D plotly interactive plot, isolation forest\n",
    "\n",
    "# 3D UMAP\n",
    "umap_3d = umap.UMAP(\n",
    "    metric='euclidean',\n",
    "    min_dist=0.2,\n",
    "    n_components=3,\n",
    "    random_state=42\n",
    ").fit_transform(features_norm)\n",
    "\n",
    "# Isolation Forest\n",
    "iso_forest = IsolationForest(\n",
    "    contamination=0.05,\n",
    "    random_state=42,\n",
    "    n_estimators=200\n",
    ")\n",
    "outliers = iso_forest.fit_predict(umap_3d)\n",
    "\n",
    "# DF\n",
    "umap_df = pd.DataFrame(umap_3d, columns=['UMAP1', 'UMAP2', 'UMAP3'])\n",
    "umap_df['Outlier'] = outliers  # -1 = outlier, 1 = inlier\n",
    "umap_df['filename'] = file_names\n",
    "\n",
    "# Map outlier df to string\n",
    "umap_df['Outlier_Label'] = umap_df['Outlier'].map({1: 'Inlier', -1: 'Outlier'})\n",
    "\n",
    "# Plot\n",
    "fig = px.scatter_3d(\n",
    "    umap_df,\n",
    "    x='UMAP1',\n",
    "    y='UMAP2',\n",
    "    z='UMAP3',\n",
    "    color='Outlier_Label',\n",
    "    hover_name='filename',\n",
    "    title='VGG16 3D UMAP Projection with Isolation Forest Outliers (species)',\n",
    "    color_discrete_map={'Inlier': 'blue', 'Outlier': 'red'}\n",
    ")\n",
    "\n",
    "fig.update_traces(marker=dict(size=4, opacity=0.7))\n",
    "fig.show()"
   ]
  }
 ],
 "metadata": {
  "kernelspec": {
   "display_name": "Python (jupyter_chirrup)",
   "language": "python",
   "name": "jupyter_env"
  },
  "language_info": {
   "codemirror_mode": {
    "name": "ipython",
    "version": 3
   },
   "file_extension": ".py",
   "mimetype": "text/x-python",
   "name": "python",
   "nbconvert_exporter": "python",
   "pygments_lexer": "ipython3",
   "version": "3.11.7"
  }
 },
 "nbformat": 4,
 "nbformat_minor": 2
}
