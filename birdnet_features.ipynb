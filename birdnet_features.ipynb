{
 "cells": [
  {
   "cell_type": "markdown",
   "metadata": {},
   "source": [
    "# BirdNET feature extraction\n",
    "BirdNET is a commonly used bird species detection algorithm. It is trained on ~6000 species, making it highly specialised at recognising patterns in spectrograms that relate to bird species.\n",
    "\n",
    "Generally BirdNET requires audio as input, however in this instance I modify the PNG spectrogram images into a format the model accepts.\n",
    "- Flatten spectrograms\n",
    "- Zero padded to 144000 features"
   ]
  },
  {
   "cell_type": "code",
   "execution_count": null,
   "metadata": {},
   "outputs": [],
   "source": [
    "import os\n",
    "import numpy as np\n",
    "import umap\n",
    "import matplotlib.pyplot as plt\n",
    "import pandas as pd\n",
    "from sklearn.preprocessing import StandardScaler\n",
    "from sklearn.ensemble import IsolationForest\n",
    "import plotly.express as px\n",
    "from birdnet_functions import extract_features"
   ]
  },
  {
   "cell_type": "code",
   "execution_count": null,
   "metadata": {},
   "outputs": [],
   "source": [
    "## Test with one png image\n",
    "image_path = \"image_path.png\"\n",
    "feature_vector = extract_features(image_path)\n",
    "print(f\"Extracted Feature Vector: {feature_vector}\")\n",
    "feature_vector.shape"
   ]
  },
  {
   "cell_type": "code",
   "execution_count": null,
   "metadata": {},
   "outputs": [],
   "source": [
    "## Directory containing the spectrogram images\n",
    "spectrogram_dir = \"spectrogram_folder\"\n",
    "\n",
    "# Initialise lists to store the features and filenames\n",
    "features = []\n",
    "file_names = []\n",
    "\n",
    "# Loop through all spectrograms in the directory\n",
    "for file in os.listdir(spectrogram_dir):\n",
    "    if file.endswith(\".png\"):\n",
    "        file_path = os.path.join(spectrogram_dir, file)\n",
    "        \n",
    "        # Extract features for image\n",
    "        feature_vector = extract_features(file_path)\n",
    "        \n",
    "        # Append the feature vector and the filename to lists\n",
    "        features.append(feature_vector)\n",
    "        file_names.append(file)\n",
    "\n",
    "# Convert the list of feature vectors into a NumPy array\n",
    "features = np.array(features)"
   ]
  },
  {
   "cell_type": "code",
   "execution_count": null,
   "metadata": {},
   "outputs": [],
   "source": [
    "## Reshape and standardise features\n",
    "\n",
    "# Reshape\n",
    "features_flattened = features.reshape(features.shape[0], -1)\n",
    "features_flattened.shape\n",
    "\n",
    "## Standardise\n",
    "features_norm = StandardScaler().fit_transform(features_flattened)"
   ]
  },
  {
   "cell_type": "code",
   "execution_count": null,
   "metadata": {},
   "outputs": [],
   "source": [
    "### Perform UMAP\n",
    "umap_embedding = umap.UMAP(\n",
    "    metric='euclidean',\n",
    "  #  n_neighbors=5,\n",
    "    min_dist=0.2,\n",
    "    n_components=2,\n",
    "    random_state=42\n",
    ").fit_transform(features_norm)\n",
    "\n",
    "# Create a DataFrame with UMAP results and corresponding filenames\n",
    "umap_df = pd.DataFrame(umap_embedding, columns=['UMAP1', 'UMAP2'])\n",
    "umap_df['filename'] = file_names"
   ]
  },
  {
   "cell_type": "code",
   "execution_count": null,
   "metadata": {},
   "outputs": [],
   "source": [
    "## Centroid methodology\n",
    "\n",
    "# Calculate the centroid (mean) of the points\n",
    "centroid = umap_df[['UMAP1', 'UMAP2']].mean()\n",
    "\n",
    "# Calculate the Euclidean distance of each point from the centroid\n",
    "umap_df['distance_from_centroid'] = ((umap_df['UMAP1'] - centroid[0]) ** 2 + (umap_df['UMAP2'] - centroid[1]) ** 2) ** 0.5\n",
    "\n",
    "# Visualize the UMAP embedding\n",
    "plt.figure(figsize=(10, 8))\n",
    "plt.scatter(umap_df['UMAP1'], umap_df['UMAP2'],\n",
    "            c=umap_df['distance_from_centroid'], cmap='viridis',\n",
    "            alpha=0.6, s=25)\n",
    "plt.colorbar(label='Distance from Centroid')\n",
    "plt.title('BirdNET UMAP projection with Distance from Centroid (species)')\n",
    "\n",
    "# Add centroid location\n",
    "plt.scatter(centroid[0], centroid[1], color='red', s=100, label='Centroid', alpha = 0.8)\n",
    "\n",
    "# Define outlier threshold\n",
    "outliers_threshold = 7  # distance from centroid\n",
    "outliers = umap_df[umap_df['distance_from_centroid'] > outliers_threshold]\n",
    "\n",
    "# Annotate outliers on the plot\n",
    "#for i, row in outliers.iterrows():\n",
    "#   plt.annotate(row['filename'], (row['UMAP1'], row['UMAP2']), textcoords=\"offset points\", xytext=(0, 5), ha='center', fontsize=9)\n",
    "\n",
    "# Plot and print outliers\n",
    "plt.show()\n",
    "print(\"Outliers:\", outliers)"
   ]
  },
  {
   "cell_type": "code",
   "execution_count": null,
   "metadata": {},
   "outputs": [],
   "source": [
    "## Isolation Forest methodology\n",
    "\n",
    "# Set model params\n",
    "iso_forest = IsolationForest(contamination=0.05, # Expected outlier percentage\n",
    "                             random_state=42,    # Random state\n",
    "                             n_estimators = 200) # Estimators (more = higher compute)\n",
    "\n",
    "# Predict on data\n",
    "outliers = iso_forest.fit_predict(umap_embedding)\n",
    "\n",
    "# Convert to a DF with UMAP results and outlier labels\n",
    "umap_df = pd.DataFrame(umap_embedding, columns=['UMAP1', 'UMAP2'])\n",
    "umap_df['Outlier'] = outliers  # -1 = outlier, 1 = inlier\n",
    "umap_df['filename'] = file_names\n",
    "\n",
    "# Visualise\n",
    "plt.figure(figsize=(10, 8))\n",
    "plt.scatter(umap_df['UMAP1'], umap_df['UMAP2'], c=umap_df['Outlier'], cmap='coolwarm', alpha=0.6, s=25)\n",
    "plt.colorbar(label='Outlier (1: Inlier, -1: Outlier)')\n",
    "plt.title('BirdNET UMAP Projection with Isolation Forest Outliers (species)')\n",
    "plt.show()"
   ]
  },
  {
   "cell_type": "code",
   "execution_count": null,
   "metadata": {},
   "outputs": [],
   "source": [
    "## Outlier data\n",
    "\n",
    "# Outliers\n",
    "outlier_filenames = umap_df[umap_df['Outlier'] == -1]['filename'].tolist()\n",
    "print(\"Outliers:\", outlier_filenames)\n",
    "\n",
    "# Inliers\n",
    "inlier_filenames = umap_df[umap_df['Outlier'] == 1]['filename'].tolist()\n",
    "print(\"Inliers:\", inlier_filenames)"
   ]
  },
  {
   "cell_type": "code",
   "execution_count": null,
   "metadata": {},
   "outputs": [],
   "source": [
    "## 3D plot with isolation forest\n",
    "\n",
    "# 3D UMAP\n",
    "umap_3d = umap.UMAP(\n",
    "    metric='euclidean',\n",
    "    min_dist=0.2,\n",
    "    n_components=3,\n",
    "    random_state=42\n",
    ").fit_transform(features_norm)\n",
    "\n",
    "# Isolation Forest\n",
    "iso_forest = IsolationForest(\n",
    "    contamination=0.05,\n",
    "    random_state=42,\n",
    "    n_estimators=200\n",
    ")\n",
    "outliers = iso_forest.fit_predict(umap_3d)\n",
    "\n",
    "# DF\n",
    "umap_df = pd.DataFrame(umap_3d, columns=['UMAP1', 'UMAP2', 'UMAP3'])\n",
    "umap_df['Outlier'] = outliers  # -1 = outlier, 1 = inlier\n",
    "umap_df['filename'] = file_names\n",
    "\n",
    "# Map outlier df to string\n",
    "umap_df['Outlier_Label'] = umap_df['Outlier'].map({1: 'Inlier', -1: 'Outlier'})\n",
    "\n",
    "# Plot\n",
    "fig = px.scatter_3d(\n",
    "    umap_df,\n",
    "    x='UMAP1',\n",
    "    y='UMAP2',\n",
    "    z='UMAP3',\n",
    "    color='Outlier_Label',\n",
    "    hover_name='filename',\n",
    "    title='BirdNET 3D UMAP Projection with Isolation Forest Outliers (species)',\n",
    "    color_discrete_map={'Inlier': 'blue', 'Outlier': 'red'}\n",
    ")\n",
    "\n",
    "fig.update_traces(marker=dict(size=4, opacity=0.7))\n",
    "fig.show()"
   ]
  }
 ],
 "metadata": {
  "kernelspec": {
   "display_name": "Python (jupyter_chirrup)",
   "language": "python",
   "name": "jupyter_env"
  },
  "language_info": {
   "codemirror_mode": {
    "name": "ipython",
    "version": 3
   },
   "file_extension": ".py",
   "mimetype": "text/x-python",
   "name": "python",
   "nbconvert_exporter": "python",
   "pygments_lexer": "ipython3",
   "version": "3.11.7"
  }
 },
 "nbformat": 4,
 "nbformat_minor": 2
}
